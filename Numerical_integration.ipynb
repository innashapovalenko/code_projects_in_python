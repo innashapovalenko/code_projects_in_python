{
 "cells": [
  {
   "cell_type": "markdown",
   "id": "71b927f7-c533-4846-850e-64b8fb610f4f",
   "metadata": {},
   "source": [
    "Numerical integration using Simpson's formula with a step of h=0.01"
   ]
  },
  {
   "cell_type": "code",
   "execution_count": 7,
   "id": "cdeed0d9-1520-4bcc-8c27-b9380f55ed54",
   "metadata": {},
   "outputs": [
    {
     "name": "stdout",
     "output_type": "stream",
     "text": [
      "0.40785054297315865\n"
     ]
    }
   ],
   "source": [
    "import math\n",
    "\n",
    "a = 0\n",
    "b = 1\n",
    "i = 0\n",
    "h = 0.01\n",
    "arr = [] #a list of numbers ranging from a to c with a step of 0.01\n",
    "while i <= b:\n",
    "    i = i + h\n",
    "    arr.append(i)\n",
    "\n",
    "\n",
    "list_n = [] #list of odd elements\n",
    "list_p = [] #a list of paired elements\n",
    "\n",
    "k = 1\n",
    "\n",
    "for elem in arr:\n",
    "    m = (2 * k - 1)%2\n",
    "    m = k%2\n",
    "    if m == 0:\n",
    "        list_p.append(elem)\n",
    "    else:\n",
    "        list_n.append(elem)\n",
    "    k = 1 + k\n",
    "\n",
    "list_p.pop(-1) #even ones should have n-1\n",
    "\n",
    "x0 = 0\n",
    "fx0 = ((math.e**(-x0**2)) * ((math.sin(x0)**2) + 1)) / (math.log(1 + x0**2) + 2)\n",
    "xn = 1\n",
    "fxn = ((math.e**(-xn**2)) * ((math.sin(xn)**2) + 1)) / (math.log(1 + xn**2) + 2)\n",
    "fx = fx0 + fxn\n",
    "\n",
    "list_result_n = []\n",
    "list_result_p = []\n",
    "\n",
    "for nep in list_n:\n",
    "    fxnep = ((math.e**(-nep**2)) * ((math.sin(nep)**2) + 1)) / (math.log(1 + nep**2) + 2)\n",
    "    list_result_n.append(fxnep)\n",
    "\n",
    "for par in list_p:\n",
    "    fxpar = ((math.e**(-par**2)) * ((math.sin(par)**2) + 1)) / (math.log(1 + par**2) + 2)\n",
    "    list_result_p.append(fxpar)\n",
    "    \n",
    "sum_list_result_n = sum(list_result_n)\n",
    "result_n = 4 * sum_list_result_n\n",
    "\n",
    "sum_list_result_p = sum(list_result_p)\n",
    "result_p = 2 * sum_list_result_p\n",
    "\n",
    "I = h / 3 * (fx + result_n + result_p)\n",
    "\n",
    "print(I) \n"
   ]
  },
  {
   "cell_type": "code",
   "execution_count": null,
   "id": "c66b5db7-aac0-437f-ae4c-c6005043f66f",
   "metadata": {},
   "outputs": [],
   "source": []
  }
 ],
 "metadata": {
  "kernelspec": {
   "display_name": "Python 3",
   "language": "python",
   "name": "python3"
  },
  "language_info": {
   "codemirror_mode": {
    "name": "ipython",
    "version": 3
   },
   "file_extension": ".py",
   "mimetype": "text/x-python",
   "name": "python",
   "nbconvert_exporter": "python",
   "pygments_lexer": "ipython3",
   "version": "3.8.8"
  }
 },
 "nbformat": 4,
 "nbformat_minor": 5
}
