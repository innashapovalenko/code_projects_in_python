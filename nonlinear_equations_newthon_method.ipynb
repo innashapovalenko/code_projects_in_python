{
 "cells": [
  {
   "cell_type": "markdown",
   "id": "360f50c2-a88c-4805-8c24-2b9b1fecc313",
   "metadata": {},
   "source": [
    "Solving nonlinear equations, Newton's method"
   ]
  },
  {
   "cell_type": "code",
   "execution_count": 3,
   "id": "afa8d621-c4f4-473a-8508-55e009679f6f",
   "metadata": {},
   "outputs": [
    {
     "name": "stdout",
     "output_type": "stream",
     "text": [
      "On 1 iteration, the root is 19.0\n",
      "Delta n k =  18.0\n",
      "On 2 iteration, the root is 9.3802946871342\n",
      "Delta n k =  9.6197053128658\n",
      "On 3 iteration, the root is 8.454332173043362\n",
      "Delta n k =  0.9259625140908376\n",
      "On 4 iteration, the root is 8.439247600948871\n",
      "Delta n k =  0.015084572094490767\n",
      "On 5 iteration, the root is 8.43924330291779\n",
      "Delta n k =  4.298031081262366e-06\n"
     ]
    },
    {
     "data": {
      "image/png": "[encoded data removed]",
      "text/plain": [
       "<Figure size 432x288 with 1 Axes>"
      ]
     },
     "metadata": {
      "needs_background": "light"
     },
     "output_type": "display_data"
    }
   ],
   "source": [
    "import math\n",
    "import matplotlib.pyplot as plt\n",
    "import numpy as np\n",
    "\n",
    "def func(x):\n",
    "    f = x * math.log(x) - 18\n",
    "    return f\n",
    "\n",
    "def func_der(x):\n",
    "    d = 1 + math.log(x)\n",
    "    return d\n",
    "\n",
    "x0 = 1\n",
    "\n",
    "difference = 1\n",
    "epsilon = 0.0001\n",
    "i = 1 \n",
    "log_list = []\n",
    "it_list = []\n",
    "fin_list = []\n",
    "while difference > epsilon:\n",
    "    if func_der(x0) == 0.0:\n",
    "        print('Error division on zero')\n",
    "        break\n",
    "    x1 = x0 - func(x0)/func_der(x0)\n",
    "    fin_list.append(x1)\n",
    "    difference = abs(x1 - x0)\n",
    "\n",
    "    y1 = func(x1)\n",
    "    logarithm = math.log(i, difference)\n",
    "\n",
    "    log_list.append(logarithm)\n",
    "    it_list.append(i)\n",
    "\n",
    "    if y1 == 0:\n",
    "        print(\"The root of equation\", x1)\n",
    "\n",
    "    print(\"On\", i, \"iteration, the root is\", x1)\n",
    "    print(\"Delta n k = \", difference)\n",
    "    x0 = x1\n",
    "    i = i + 1\n",
    "    if i > 20:\n",
    "        break\n",
    "\n",
    "#print(\"\\n\", \"Final result: \", fin_list[-1])\n",
    "plt.plot(it_list, log_list, 'b', marker = 'x') \n",
    "plt.show()\n"
   ]
  },
  {
   "cell_type": "code",
   "execution_count": null,
   "id": "ac6e6b7f-de1b-4d23-a12d-9c77562194c6",
   "metadata": {},
   "outputs": [],
   "source": []
  }
 ],
 "metadata": {
  "kernelspec": {
   "display_name": "Python 3",
   "language": "python",
   "name": "python3"
  },
  "language_info": {
   "codemirror_mode": {
    "name": "ipython",
    "version": 3
   },
   "file_extension": ".py",
   "mimetype": "text/x-python",
   "name": "python",
   "nbconvert_exporter": "python",
   "pygments_lexer": "ipython3",
   "version": "3.8.8"
  }
 },
 "nbformat": 4,
 "nbformat_minor": 5
}
