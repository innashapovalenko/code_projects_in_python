{
  "nbformat": 4,
  "nbformat_minor": 0,
  "metadata": {
    "colab": {
      "provenance": [],
      "authorship_tag": "ABX9TyNAkCIM9k3+axp2cEDHPWln",
      "include_colab_link": true
    },
    "kernelspec": {
      "name": "python3",
      "display_name": "Python 3"
    },
    "language_info": {
      "name": "python"
    }
  },
  "cells": [
    {
      "cell_type": "markdown",
      "metadata": {
        "id": "view-in-github",
        "colab_type": "text"
      },
      "source": [
        "<a href=\"https://colab.research.google.com/github/innashapovalenko/code_projects_in_python/blob/main/Linked_list.ipynb\" target=\"_parent\"><img src=\"https://colab.research.google.com/assets/colab-badge.svg\" alt=\"Open In Colab\"/></a>"
      ]
    },
    {
      "cell_type": "code",
      "execution_count": 5,
      "metadata": {
        "colab": {
          "base_uri": "https://localhost:8080/"
        },
        "id": "kXKs2fnjNAcA",
        "outputId": "0b1bc904-3464-422a-9688-0dcb47e36127"
      },
      "outputs": [
        {
          "output_type": "stream",
          "name": "stdout",
          "text": [
            "4\n",
            "5\n"
          ]
        }
      ],
      "source": [
        "class Node:\n",
        "  def __init__(self, data = None, next=None): \n",
        "    self.data = data\n",
        "    self.next = next\n",
        "\n",
        "class LinkedList:\n",
        "  def __init__(self):  \n",
        "    self.start = None\n",
        "  \n",
        " \n",
        "  def insert(self, data):\n",
        "    newNode = Node(data)\n",
        "    if(self.start):\n",
        "      current = self.start\n",
        "      while(current.next):\n",
        "        current = current.next\n",
        "      current.next = newNode\n",
        "    else:\n",
        "      self.start = newNode\n",
        "  \n",
        "  \n",
        "  def printLL(self):\n",
        "    current = self.start\n",
        "    while(current):\n",
        "      print(current.data)\n",
        "      current = current.next\n",
        "\n",
        "  def delete(self, key):\n",
        "      temp = self.start\n",
        "      if (temp is not None):\n",
        "          if (temp.data == key):\n",
        "              self.start = temp.next\n",
        "              temp = None\n",
        "              return\n",
        "\n",
        "    \n",
        "      while(temp is not None):\n",
        "          if temp.data == key:\n",
        "              break\n",
        "          prev = temp\n",
        "          temp = temp.next\n",
        "\n",
        "      if(temp == None):\n",
        "          return\n",
        "\n",
        "      prev.next = temp.next\n",
        "\n",
        "      temp = None\n",
        "\n",
        "ExamLinkedL = LinkedList()\n",
        "ExamLinkedL.insert(3)\n",
        "ExamLinkedL.insert(4)\n",
        "ExamLinkedL.insert(5)\n",
        "ExamLinkedL.delete(3)\n",
        "ExamLinkedL.printLL()"
      ]
    }
  ]
}